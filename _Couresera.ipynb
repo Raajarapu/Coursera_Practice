{
 "cells": [
  {
   "cell_type": "markdown",
   "id": "8ff3d3a4-d699-495b-80a1-c8e77cefa49d",
   "metadata": {},
   "source": [
    "# Title \n",
    "## Couresera Demo Assignment"
   ]
  },
  {
   "cell_type": "markdown",
   "id": "aaf17923-eecc-491d-af69-d971c11e583e",
   "metadata": {},
   "source": [
    "# Introduction\n",
    "### IBM offers comprehensive Data Science courses for beginners and professionals, helping learners develop essential skills in data science, machine learning, Python, SQL, and data visualization. One of the most popular programs is the IBM Data Science Professional Certificate on Coursera, which consists of 12 courses designed to equip students with job-ready expertise. It covers topics like data analysis, AI applications, and cloud computing, providing a strong foundation for those pursuing a career in data science.\n",
    "### Another well-known option is the Introduction to Data Science course on edX, which gives learners an overview of data science concepts, including big data, forecasting, and analytical techniques. These courses are taught by industry professionals and provide opportunities to earn recognized credentials from IBM upon completion.\n",
    "### IBM also offers SkillsBuild, a free platform that provides students with fundamental data science training and career guidance. These courses help individuals transition into the data science field by covering real-world applications and best practices.\n"
   ]
  },
  {
   "cell_type": "markdown",
   "id": "f858c179-7adc-40c3-813e-485500d2c9a8",
   "metadata": {},
   "source": [
    "# Data Science LAnguages\n",
    "## Python \n",
    "## R programming language\n",
    "## SQL \n",
    "## Ruby \n",
    "## Scala\n",
    "## Java\n"
   ]
  },
  {
   "cell_type": "markdown",
   "id": "6843550f-dbb5-4e0d-8d79-06cb0a842cb8",
   "metadata": {},
   "source": [
    "# Data Science Libraries\n",
    "### pandas\n",
    "### numpy\n",
    "### matplotlib\n",
    "### scikit learn\n",
    "### pytorch\n",
    "### tensorflow\n"
   ]
  },
  {
   "cell_type": "markdown",
   "id": "077aa17b-0de5-4ab9-a45f-fe46e6084e9e",
   "metadata": {},
   "source": [
    "# Data SCience Tools\n",
    " There are many powerful data science tools used for analysis, visualization, and machine learning. Here are some of the most popular ones:\n",
    "- Python-based tools:\n",
    "- Pandas – Data manipulation and analysis.\n",
    "- NumPy – Numerical computing.\n",
    "- Matplotlib & Seaborn – Data visualization.\n",
    "- Scikit-learn – Machine learning algorithms.\n",
    "- TensorFlow & PyTorch – Deep learning frameworks.\n",
    "- Big Data & Cloud tools:\n",
    "- Apache Spark – Distributed computing for big data.\n",
    "- Hadoop – Storage and processing of large datasets.\n",
    "- Google Cloud AI & AWS SageMaker – Cloud-based AI solutions.\n",
    "- Data Science Platforms:\n",
    "- Jupyter Notebook – Interactive coding environment.\n",
    "- IBM Watson Studio – AI-powered data science platform.\n",
    "- RapidMiner – No-code machine learning tool.\n"
   ]
  },
  {
   "cell_type": "markdown",
   "id": "6b1938fb-c22c-415e-b437-6b5f244ac5d9",
   "metadata": {},
   "source": [
    "# Arthimetic Expressions"
   ]
  },
  {
   "cell_type": "code",
   "execution_count": 18,
   "id": "4d3cdde8-5d02-490c-b183-49e62c7e29e5",
   "metadata": {},
   "outputs": [
    {
     "name": "stdout",
     "output_type": "stream",
     "text": [
      "4\n",
      "20\n",
      "10\n",
      "10.0\n",
      "15\n",
      "25\n"
     ]
    }
   ],
   "source": [
    "a=2+2 # Addition\n",
    "b=60-40 # Substraction\n",
    "c=2*5 # Multiplication\n",
    "d=50/5 # Division\n",
    "e=3*5 # Multiplication\n",
    "f=c+e # multiply and add numbers\n",
    "print(a)\n",
    "print(b)\n",
    "print(c)\n",
    "print(d)\n",
    "print(e)\n",
    "print(f)"
   ]
  },
  {
   "cell_type": "markdown",
   "id": "d3d5fc1c-3c07-40ec-a9f5-323cb696c825",
   "metadata": {},
   "source": [
    "# convert minutes to hours"
   ]
  },
  {
   "cell_type": "code",
   "execution_count": 21,
   "id": "48423056-0a1d-412f-a76a-b7e0767d4707",
   "metadata": {},
   "outputs": [
    {
     "name": "stdout",
     "output_type": "stream",
     "text": [
      "120 minutes is 2.0 hours\n"
     ]
    }
   ],
   "source": [
    "# Convert minutes to hours\n",
    "def convert_minutes_to_hours(minutes):\n",
    "    hours = minutes / 60\n",
    "    return f\"{minutes} minutes is {hours} hours\"\n",
    "\n",
    "# Example usage\n",
    "minutes = 120  # Change this value to test with different inputs\n",
    "print(convert_minutes_to_hours(minutes))"
   ]
  },
  {
   "cell_type": "markdown",
   "id": "ff106f95-da29-4c86-b86f-a57013f318f2",
   "metadata": {},
   "source": [
    "## Objectives\n",
    "\n",
    "- Learn how to manipulate data using Pandas\n",
    "- Understand NumPy operations for numerical computing\n",
    "- Explore data visualization techniques with Matplotlib & Seaborn\n",
    "- Implement machine learning models with Scikit-learn\n",
    "- Work with deep learning frameworks like TensorFlow & PyTorch"
   ]
  },
  {
   "cell_type": "markdown",
   "id": "a8b7d2ae-dc9d-406c-8fec-0ef36173bdfa",
   "metadata": {},
   "source": [
    "## Author\n",
    "\n",
    "**John Doe**  <!-- Replace with the actual author's name -->"
   ]
  },
  {
   "cell_type": "code",
   "execution_count": null,
   "id": "6c722d88-ac42-4130-8793-f5a1b588b26c",
   "metadata": {},
   "outputs": [],
   "source": []
  },
  {
   "cell_type": "code",
   "execution_count": null,
   "id": "95072de6-14f3-4d82-8e61-4f4b5ae0d143",
   "metadata": {},
   "outputs": [],
   "source": []
  },
  {
   "cell_type": "code",
   "execution_count": null,
   "id": "ab5ef402-b393-4072-b932-08f6770aa28e",
   "metadata": {},
   "outputs": [],
   "source": []
  },
  {
   "cell_type": "code",
   "execution_count": null,
   "id": "56de3034-0566-4089-99ef-203c79ea7143",
   "metadata": {},
   "outputs": [],
   "source": []
  },
  {
   "cell_type": "code",
   "execution_count": null,
   "id": "cd9aa39c-5013-458a-814a-548dc830b5f9",
   "metadata": {},
   "outputs": [],
   "source": []
  },
  {
   "cell_type": "code",
   "execution_count": null,
   "id": "c5596fea-727a-4aae-8fea-48e7d18599d8",
   "metadata": {},
   "outputs": [],
   "source": []
  },
  {
   "cell_type": "code",
   "execution_count": null,
   "id": "a99e809c-4f9e-4268-ba04-630017f2ee3b",
   "metadata": {},
   "outputs": [],
   "source": []
  },
  {
   "cell_type": "code",
   "execution_count": null,
   "id": "69c87d42-1134-4ef3-879a-4ad256070626",
   "metadata": {},
   "outputs": [],
   "source": []
  },
  {
   "cell_type": "code",
   "execution_count": null,
   "id": "84fb49c8-1d94-468c-b513-a3d1824236ab",
   "metadata": {},
   "outputs": [],
   "source": []
  },
  {
   "cell_type": "code",
   "execution_count": null,
   "id": "fd2d3684-fac8-48fd-bf1a-bf6467da372d",
   "metadata": {},
   "outputs": [],
   "source": []
  },
  {
   "cell_type": "code",
   "execution_count": null,
   "id": "43112bd7-2abc-4eb8-8003-779288cc1a71",
   "metadata": {},
   "outputs": [],
   "source": []
  },
  {
   "cell_type": "code",
   "execution_count": null,
   "id": "d818927c-f27c-485e-80ea-f30d7046d52d",
   "metadata": {},
   "outputs": [],
   "source": []
  },
  {
   "cell_type": "code",
   "execution_count": null,
   "id": "bf4a0392-f3fd-4d1d-b169-aa8bf742625f",
   "metadata": {},
   "outputs": [],
   "source": []
  }
 ],
 "metadata": {
  "kernelspec": {
   "display_name": "Python 3 (ipykernel)",
   "language": "python",
   "name": "python3"
  },
  "language_info": {
   "codemirror_mode": {
    "name": "ipython",
    "version": 3
   },
   "file_extension": ".py",
   "mimetype": "text/x-python",
   "name": "python",
   "nbconvert_exporter": "python",
   "pygments_lexer": "ipython3",
   "version": "3.12.4"
  }
 },
 "nbformat": 4,
 "nbformat_minor": 5
}
